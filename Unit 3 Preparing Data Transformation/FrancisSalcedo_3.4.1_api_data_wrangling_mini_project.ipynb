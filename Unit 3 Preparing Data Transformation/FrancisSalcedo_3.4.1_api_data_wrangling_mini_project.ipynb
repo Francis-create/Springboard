{
 "cells": [
  {
   "cell_type": "markdown",
   "metadata": {},
   "source": [
    "This exercise will require you to pull some data from the Qunadl API. Qaundl is currently the most widely used aggregator of financial market data."
   ]
  },
  {
   "cell_type": "markdown",
   "metadata": {},
   "source": [
    "As a first step, you will need to register a free account on the http://www.quandl.com website."
   ]
  },
  {
   "cell_type": "markdown",
   "metadata": {},
   "source": [
    "After you register, you will be provided with a unique API key, that you should store:"
   ]
  },
  {
   "cell_type": "code",
   "execution_count": 1,
   "metadata": {},
   "outputs": [],
   "source": [
    "# Store the API key as a string - according to PEP8, constants are always named in all upper case\n",
    "API_KEY = 'ZbunUMxjexjYt8DyhESA'"
   ]
  },
  {
   "cell_type": "markdown",
   "metadata": {},
   "source": [
    "Qaundl has a large number of data sources, but, unfortunately, most of them require a Premium subscription. Still, there are also a good number of free datasets."
   ]
  },
  {
   "cell_type": "markdown",
   "metadata": {},
   "source": [
    "For this mini project, we will focus on equities data from the Frankfurt Stock Exhange (FSE), which is available for free. We'll try and analyze the stock prices of a company called Carl Zeiss Meditec, which manufactures tools for eye examinations, as well as medical lasers for laser eye surgery: https://www.zeiss.com/meditec/int/home.html. The company is listed under the stock ticker AFX_X."
   ]
  },
  {
   "cell_type": "markdown",
   "metadata": {},
   "source": [
    "You can find the detailed Quandl API instructions here: https://docs.quandl.com/docs/time-series"
   ]
  },
  {
   "cell_type": "markdown",
   "metadata": {},
   "source": [
    "While there is a dedicated Python package for connecting to the Quandl API, we would prefer that you use the *requests* package, which can be easily downloaded using *pip* or *conda*. You can find the documentation for the package here: http://docs.python-requests.org/en/master/ "
   ]
  },
  {
   "cell_type": "markdown",
   "metadata": {},
   "source": [
    "Finally, apart from the *requests* package, you are encouraged to not use any third party Python packages, such as *pandas*, and instead focus on what's available in the Python Standard Library (the *collections* module might come in handy: https://pymotw.com/3/collections/).\n",
    "Also, since you won't have access to DataFrames, you are encouraged to us Python's native data structures - preferably dictionaries, though some questions can also be answered using lists.\n",
    "You can read more on these data structures here: https://docs.python.org/3/tutorial/datastructures.html"
   ]
  },
  {
   "cell_type": "markdown",
   "metadata": {},
   "source": [
    "Keep in mind that the JSON responses you will be getting from the API map almost one-to-one to Python's dictionaries. Unfortunately, they can be very nested, so make sure you read up on indexing dictionaries in the documentation provided above."
   ]
  },
  {
   "cell_type": "code",
   "execution_count": 3,
   "metadata": {},
   "outputs": [
    {
     "name": "stdout",
     "output_type": "stream",
     "text": [
      "Loading Libraries\n"
     ]
    }
   ],
   "source": [
    "# First, import the relevant modules\n",
    "import requests\n",
    "import json\n",
    "print('Loading Libraries')"
   ]
  },
  {
   "cell_type": "code",
   "execution_count": 4,
   "metadata": {},
   "outputs": [
    {
     "name": "stdout",
     "output_type": "stream",
     "text": [
      "<Response [200]>\n"
     ]
    }
   ],
   "source": [
    "# Now, call the Quandl API and pull out a small sample of the data (only one day) to get a glimpse\n",
    "# into the JSON structure that will be returned\n",
    "stock_exchange = 'FSE'\n",
    "ticker = 'AFX_X'\n",
    "data_format = 'json'\n",
    "domain = 'https://www.quandl.com/api/v3/datasets'\n",
    "params = {\n",
    "    'api_key': API_KEY,\n",
    "    'start_date': '2017-01-01',\n",
    "    'end_date': '2017-12-31',\n",
    "    }\n",
    "url = 'https://www.quandl.com/api/v3/datasets/%s/%s.%s?'%(stock_exchange, ticker, data_format)\n",
    "response = requests.get(url, params=params)\n",
    "print(response)\n",
    "data = response.json()"
   ]
  },
  {
   "cell_type": "code",
   "execution_count": 5,
   "metadata": {},
   "outputs": [
    {
     "name": "stdout",
     "output_type": "stream",
     "text": [
      "dict_keys(['dataset'])\n",
      "1\n",
      "<class 'dict'>\n"
     ]
    }
   ],
   "source": [
    "# Inspect the JSON structure of the object you created, and take note of how nested it is,\n",
    "# as well as the overall structure\n",
    "print(data.keys())\n",
    "print(len(data))\n",
    "print(type(data['dataset']))\n",
    "\n"
   ]
  },
  {
   "cell_type": "code",
   "execution_count": 6,
   "metadata": {},
   "outputs": [],
   "source": [
    "data = data['dataset'] # for simplicity"
   ]
  },
  {
   "cell_type": "code",
   "execution_count": 7,
   "metadata": {},
   "outputs": [
    {
     "name": "stdout",
     "output_type": "stream",
     "text": [
      "dict_keys(['id', 'dataset_code', 'database_code', 'name', 'description', 'refreshed_at', 'newest_available_date', 'oldest_available_date', 'column_names', 'frequency', 'type', 'premium', 'limit', 'transform', 'column_index', 'start_date', 'end_date', 'data', 'collapse', 'order', 'database_id'])\n",
      "['Date', 'Open', 'High', 'Low', 'Close', 'Change', 'Traded Volume', 'Turnover', 'Last Price of the Day', 'Daily Traded Units', 'Daily Turnover']\n"
     ]
    }
   ],
   "source": [
    "print(data.keys())\n",
    "print(data['column_names'])"
   ]
  },
  {
   "cell_type": "code",
   "execution_count": null,
   "metadata": {},
   "outputs": [],
   "source": [
    "# # date open high low close change tradedvolume\n",
    "# 0,   1,   2,   3,  4,    5,     6"
   ]
  },
  {
   "cell_type": "markdown",
   "metadata": {},
   "source": [
    "These are your tasks for this mini project:\n",
    "\n",
    "1. Collect data from the Franfurt Stock Exchange, for the ticker AFX_X, for the whole year 2017 (keep in mind that the date format is YYYY-MM-DD).\n",
    "2. Convert the returned JSON object into a Python dictionary.\n",
    "3. Calculate what the highest and lowest opening prices were for the stock in this period.\n",
    "4. What was the largest change in any one day (based on High and Low price)?\n",
    "5. What was the largest change between any two days (based on Closing Price)?\n",
    "6. What was the average daily trading volume during this year?\n",
    "7. (Optional) What was the median trading volume during this year. (Note: you may need to implement your own function for calculating the median.)"
   ]
  },
  {
   "cell_type": "code",
   "execution_count": 8,
   "metadata": {},
   "outputs": [],
   "source": [
    "prices = data['data']\n",
    "num_periods = len(prices)"
   ]
  },
  {
   "cell_type": "code",
   "execution_count": 9,
   "metadata": {},
   "outputs": [],
   "source": [
    "# initial variables\n",
    "max_open, min_open = -9999, 9999\n",
    "max_change_intraday = -99; # change = high - low\n",
    "max_change_nextday = -99; # close - close (previous)\n",
    "previous_close = prices[0][3]\n",
    "sum_vol = 0; # for finding average\n",
    "avg_count = 0;\n",
    "temp_change = 0.0;"
   ]
  },
  {
   "cell_type": "code",
   "execution_count": 10,
   "metadata": {},
   "outputs": [
    {
     "name": "stdout",
     "output_type": "stream",
     "text": [
      "\n",
      "\n",
      "\n",
      "The max and open prices are 53.11 and 34.00\n",
      "The max intraday change (high - low) is 2.81\n",
      "The absolute max change in change in price next day: 2.56\n",
      "The average trading volume: 89124\n"
     ]
    }
   ],
   "source": [
    "\n",
    "for i in range(num_periods):\n",
    "    # finding max/min\n",
    "    if prices[i][1] != None:\n",
    "        if prices[i][1] > max_open:\n",
    "            max_open = prices[i][1]\n",
    "        if prices[i][1] < min_open:\n",
    "            min_open = prices[i][1]\n",
    "    \n",
    "    # finding max intraday change\n",
    "    if ((prices[i][2] != None) & (prices[i][3] != None)):\n",
    "        if (prices[i][2] - prices[i][3]) > max_change_intraday:\n",
    "            max_change_intraday = (prices[i][2] - prices[i][3])\n",
    "    \n",
    "    # finding max close-change\n",
    "    if ((prices[i][3] != None) & (previous_close != None)):\n",
    "        if abs(prices[i][4] - previous_close) > max_change_nextday:\n",
    "            max_change_nextday = abs(prices[i][4] - previous_close)\n",
    "    previous_close = prices[i][4]\n",
    "    \n",
    "    # finding average volume\n",
    "    if ((prices[i][6]) != None):\n",
    "        sum_vol = sum_vol + prices[i][6]\n",
    "        avg_count+=1\n",
    "        \n",
    "avg_vol = sum_vol/avg_count\n",
    "print('\\n\\n')\n",
    "print('The max and open prices are %.2f and %.2f'%(max_open, min_open))\n",
    "print('The max intraday change (high - low) is %.2f'%max_change_intraday)\n",
    "print('The absolute max change in change in price next day: %.2f'%max_change_nextday)\n",
    "print('The average trading volume: %i'%avg_vol)"
   ]
  },
  {
   "cell_type": "code",
   "execution_count": 11,
   "metadata": {},
   "outputs": [],
   "source": [
    "# to find the median we need to sort the volume. Extracting volume in a separate list vol (without any Nones)\n",
    "vol = [None]*avg_count # initialize space to store volume\n",
    "k = 0\n",
    "for i in range(num_periods): # grabbing the volume and putting in separate list\n",
    "    if (prices[i][6] != None):\n",
    "        vol[k] = prices[i][6]\n",
    "        k+=1\n"
   ]
  },
  {
   "cell_type": "code",
   "execution_count": 13,
   "metadata": {},
   "outputs": [],
   "source": [
    "# %% create our own sorting function - merge-sort algorithm\n",
    "# two fast algorithms - quicksort or mergesort -- let's do mergesort (easier for me to understand)\n",
    "def mergeSort(array):\n",
    "    if len(array) > 1:\n",
    "        index = int(len(array)*0.5) # finding mid point\n",
    "        # splitting into two halves\n",
    "        left = array[:index] \n",
    "        right = array[index:]\n",
    "        \n",
    "        # initialize counters for comparison\n",
    "        # i is for left half\n",
    "        # j is for right half\n",
    "        # k is for array when merged\n",
    "        i, j, k = 0,0,0\n",
    "\n",
    "        # recursive. Keep halving until down to duples \n",
    "        mergeSort(left)\n",
    "        mergeSort(right)\n",
    "        \n",
    "        # within each halves-subsections\n",
    "        # the sorting processing\n",
    "        while (i<len(left)) & (j<len(right)):\n",
    "            if left[i] < right[j]: #compare\n",
    "                array[k] = left[i] # filling out the merged\n",
    "                i+=1\n",
    "            else:\n",
    "                array[k] = right[j]\n",
    "                j+=1\n",
    "            k+=1\n",
    "        \n",
    "        # filling out leftover halves (assuming i,j didn't finish in the comparison loop above)\n",
    "        while (i<len(left)):\n",
    "            array[k] = left[i]\n",
    "            i+=1\n",
    "            k+=1\n",
    "        \n",
    "        while (j<len(right)):\n",
    "            array[k] = right[j]\n",
    "            j+=1\n",
    "            k+=1       "
   ]
  },
  {
   "cell_type": "code",
   "execution_count": 14,
   "metadata": {},
   "outputs": [
    {
     "name": "stdout",
     "output_type": "stream",
     "text": [
      "The median: 76286\n"
     ]
    }
   ],
   "source": [
    "# %% Calculate median\n",
    "mergeSort(vol)\n",
    "# vol.sort() if we wanted to use python's built in sort\n",
    "if avg_count%2 == 0: # if number of records is even, take average\n",
    "    median = (vol[avg_count/2] + vol[avg_count/2-1])/2\n",
    "else: \n",
    "    median = vol[int(avg_count/2)]\n",
    "\n",
    "print('The median: %i'%median)\n"
   ]
  },
  {
   "cell_type": "code",
   "execution_count": null,
   "metadata": {},
   "outputs": [],
   "source": []
  }
 ],
 "metadata": {
  "kernelspec": {
   "display_name": "Python 3",
   "language": "python",
   "name": "python3"
  },
  "language_info": {
   "codemirror_mode": {
    "name": "ipython",
    "version": 3
   },
   "file_extension": ".py",
   "mimetype": "text/x-python",
   "name": "python",
   "nbconvert_exporter": "python",
   "pygments_lexer": "ipython3",
   "version": "3.7.7"
  }
 },
 "nbformat": 4,
 "nbformat_minor": 2
}
