{
 "cells": [
  {
   "cell_type": "markdown",
   "metadata": {
    "collapsed": true
   },
   "source": [
    "## APIs"
   ]
  },
  {
   "cell_type": "markdown",
   "metadata": {
    "collapsed": true
   },
   "source": [
    "Let's start by looking at [OMDb API](https://www.omdbapi.com/).\n",
    "\n",
    "The OMDb API is a free web service to obtain movie information, all content and images on the site are contributed and maintained by users.\n",
    "\n",
    "The Python package [urllib](https://docs.python.org/3/howto/urllib2.html) can be used to fetch resources from the internet.\n",
    "\n",
    "OMDb tells us what kinds of requests we can make. We are going to do a title search. As you can see below, we have an additional parameter \"&Season=1\" which does not appear in the parameter tables. If you read through the change log, you will see it documented there. \n",
    "\n",
    "Using the urllib and json packages allow us to call an API and store the results locally."
   ]
  },
  {
   "cell_type": "code",
   "execution_count": 11,
   "metadata": {},
   "outputs": [],
   "source": [
    "import json\n",
    "import urllib.request\n",
    "\n",
    "# my api key is b5d4dcaf\n",
    "api_key = 'b5d4dcaf'"
   ]
  },
  {
   "cell_type": "code",
   "execution_count": 12,
   "metadata": {},
   "outputs": [
    {
     "name": "stdout",
     "output_type": "stream",
     "text": [
      "{'Title': 'Game of Thrones', 'Season': '1', 'totalSeasons': '8', 'Episodes': [{'Title': 'Winter Is Coming', 'Released': '2011-04-17', 'Episode': '1', 'imdbRating': '9.0', 'imdbID': 'tt1480055'}, {'Title': 'The Kingsroad', 'Released': '2011-04-24', 'Episode': '2', 'imdbRating': '8.8', 'imdbID': 'tt1668746'}, {'Title': 'Lord Snow', 'Released': '2011-05-01', 'Episode': '3', 'imdbRating': '8.7', 'imdbID': 'tt1829962'}, {'Title': 'Cripples, Bastards, and Broken Things', 'Released': '2011-05-08', 'Episode': '4', 'imdbRating': '8.8', 'imdbID': 'tt1829963'}, {'Title': 'The Wolf and the Lion', 'Released': '2011-05-15', 'Episode': '5', 'imdbRating': '9.1', 'imdbID': 'tt1829964'}, {'Title': 'A Golden Crown', 'Released': '2011-05-22', 'Episode': '6', 'imdbRating': '9.2', 'imdbID': 'tt1837862'}, {'Title': 'You Win or You Die', 'Released': '2011-05-29', 'Episode': '7', 'imdbRating': '9.2', 'imdbID': 'tt1837863'}, {'Title': 'The Pointy End', 'Released': '2011-06-05', 'Episode': '8', 'imdbRating': '9.0', 'imdbID': 'tt1837864'}, {'Title': 'Baelor', 'Released': '2011-06-12', 'Episode': '9', 'imdbRating': '9.6', 'imdbID': 'tt1851398'}, {'Title': 'Fire and Blood', 'Released': '2011-06-19', 'Episode': '10', 'imdbRating': '9.5', 'imdbID': 'tt1851397'}], 'Response': 'True'}\n"
     ]
    }
   ],
   "source": [
    "data = json.loads(urllib.request.urlopen('http://www.omdbapi.com/?t=Game%20of%20Thrones&Season=1&apikey='+api_key).read().decode('utf8'))\n",
    "\n",
    "print(data)"
   ]
  },
  {
   "cell_type": "markdown",
   "metadata": {},
   "source": [
    "What should we expect the type to be for the variable data?"
   ]
  },
  {
   "cell_type": "code",
   "execution_count": 13,
   "metadata": {},
   "outputs": [
    {
     "name": "stdout",
     "output_type": "stream",
     "text": [
      "<class 'dict'>\n"
     ]
    }
   ],
   "source": [
    "print(type(data))"
   ]
  },
  {
   "cell_type": "markdown",
   "metadata": {},
   "source": [
    "What do you think the data will look like?"
   ]
  },
  {
   "cell_type": "code",
   "execution_count": 14,
   "metadata": {},
   "outputs": [
    {
     "data": {
      "text/plain": [
       "dict_keys(['Title', 'Season', 'totalSeasons', 'Episodes', 'Response'])"
      ]
     },
     "execution_count": 14,
     "metadata": {},
     "output_type": "execute_result"
    }
   ],
   "source": [
    "data.keys()"
   ]
  },
  {
   "cell_type": "code",
   "execution_count": 20,
   "metadata": {},
   "outputs": [
    {
     "data": {
      "text/plain": [
       "[{'Title': 'Winter Is Coming',\n",
       "  'Released': '2011-04-17',\n",
       "  'Episode': '1',\n",
       "  'imdbRating': '9.0',\n",
       "  'imdbID': 'tt1480055'},\n",
       " {'Title': 'The Kingsroad',\n",
       "  'Released': '2011-04-24',\n",
       "  'Episode': '2',\n",
       "  'imdbRating': '8.8',\n",
       "  'imdbID': 'tt1668746'},\n",
       " {'Title': 'Lord Snow',\n",
       "  'Released': '2011-05-01',\n",
       "  'Episode': '3',\n",
       "  'imdbRating': '8.7',\n",
       "  'imdbID': 'tt1829962'},\n",
       " {'Title': 'Cripples, Bastards, and Broken Things',\n",
       "  'Released': '2011-05-08',\n",
       "  'Episode': '4',\n",
       "  'imdbRating': '8.8',\n",
       "  'imdbID': 'tt1829963'},\n",
       " {'Title': 'The Wolf and the Lion',\n",
       "  'Released': '2011-05-15',\n",
       "  'Episode': '5',\n",
       "  'imdbRating': '9.1',\n",
       "  'imdbID': 'tt1829964'},\n",
       " {'Title': 'A Golden Crown',\n",
       "  'Released': '2011-05-22',\n",
       "  'Episode': '6',\n",
       "  'imdbRating': '9.2',\n",
       "  'imdbID': 'tt1837862'},\n",
       " {'Title': 'You Win or You Die',\n",
       "  'Released': '2011-05-29',\n",
       "  'Episode': '7',\n",
       "  'imdbRating': '9.2',\n",
       "  'imdbID': 'tt1837863'},\n",
       " {'Title': 'The Pointy End',\n",
       "  'Released': '2011-06-05',\n",
       "  'Episode': '8',\n",
       "  'imdbRating': '9.0',\n",
       "  'imdbID': 'tt1837864'},\n",
       " {'Title': 'Baelor',\n",
       "  'Released': '2011-06-12',\n",
       "  'Episode': '9',\n",
       "  'imdbRating': '9.6',\n",
       "  'imdbID': 'tt1851398'},\n",
       " {'Title': 'Fire and Blood',\n",
       "  'Released': '2011-06-19',\n",
       "  'Episode': '10',\n",
       "  'imdbRating': '9.5',\n",
       "  'imdbID': 'tt1851397'}]"
      ]
     },
     "execution_count": 20,
     "metadata": {},
     "output_type": "execute_result"
    }
   ],
   "source": [
    "data['Episodes']"
   ]
  },
  {
   "cell_type": "markdown",
   "metadata": {},
   "source": [
    "We now have a dictionary object of our data. We can use python to manipulate it in a variety of ways. For example, we can print all the titles of the episodes."
   ]
  },
  {
   "cell_type": "code",
   "execution_count": 15,
   "metadata": {},
   "outputs": [
    {
     "name": "stdout",
     "output_type": "stream",
     "text": [
      "Winter Is Coming 9.0\n",
      "The Kingsroad 8.8\n",
      "Lord Snow 8.7\n",
      "Cripples, Bastards, and Broken Things 8.8\n",
      "The Wolf and the Lion 9.1\n",
      "A Golden Crown 9.2\n",
      "You Win or You Die 9.2\n",
      "The Pointy End 9.0\n",
      "Baelor 9.6\n",
      "Fire and Blood 9.5\n"
     ]
    }
   ],
   "source": [
    "for episode in data['Episodes']:\n",
    "  print(episode['Title'], episode['imdbRating'])"
   ]
  },
  {
   "cell_type": "markdown",
   "metadata": {},
   "source": [
    "We can use pandas to convert the episode information to a dataframe."
   ]
  },
  {
   "cell_type": "code",
   "execution_count": 16,
   "metadata": {},
   "outputs": [],
   "source": [
    "import pandas as pd\n",
    "\n",
    "df = pd.DataFrame.from_dict(data['Episodes'])"
   ]
  },
  {
   "cell_type": "code",
   "execution_count": 17,
   "metadata": {},
   "outputs": [
    {
     "data": {
      "text/html": [
       "<div>\n",
       "<style scoped>\n",
       "    .dataframe tbody tr th:only-of-type {\n",
       "        vertical-align: middle;\n",
       "    }\n",
       "\n",
       "    .dataframe tbody tr th {\n",
       "        vertical-align: top;\n",
       "    }\n",
       "\n",
       "    .dataframe thead th {\n",
       "        text-align: right;\n",
       "    }\n",
       "</style>\n",
       "<table border=\"1\" class=\"dataframe\">\n",
       "  <thead>\n",
       "    <tr style=\"text-align: right;\">\n",
       "      <th></th>\n",
       "      <th>Title</th>\n",
       "      <th>Released</th>\n",
       "      <th>Episode</th>\n",
       "      <th>imdbRating</th>\n",
       "      <th>imdbID</th>\n",
       "    </tr>\n",
       "  </thead>\n",
       "  <tbody>\n",
       "    <tr>\n",
       "      <td>0</td>\n",
       "      <td>Winter Is Coming</td>\n",
       "      <td>2011-04-17</td>\n",
       "      <td>1</td>\n",
       "      <td>9.0</td>\n",
       "      <td>tt1480055</td>\n",
       "    </tr>\n",
       "    <tr>\n",
       "      <td>1</td>\n",
       "      <td>The Kingsroad</td>\n",
       "      <td>2011-04-24</td>\n",
       "      <td>2</td>\n",
       "      <td>8.8</td>\n",
       "      <td>tt1668746</td>\n",
       "    </tr>\n",
       "    <tr>\n",
       "      <td>2</td>\n",
       "      <td>Lord Snow</td>\n",
       "      <td>2011-05-01</td>\n",
       "      <td>3</td>\n",
       "      <td>8.7</td>\n",
       "      <td>tt1829962</td>\n",
       "    </tr>\n",
       "    <tr>\n",
       "      <td>3</td>\n",
       "      <td>Cripples, Bastards, and Broken Things</td>\n",
       "      <td>2011-05-08</td>\n",
       "      <td>4</td>\n",
       "      <td>8.8</td>\n",
       "      <td>tt1829963</td>\n",
       "    </tr>\n",
       "    <tr>\n",
       "      <td>4</td>\n",
       "      <td>The Wolf and the Lion</td>\n",
       "      <td>2011-05-15</td>\n",
       "      <td>5</td>\n",
       "      <td>9.1</td>\n",
       "      <td>tt1829964</td>\n",
       "    </tr>\n",
       "    <tr>\n",
       "      <td>5</td>\n",
       "      <td>A Golden Crown</td>\n",
       "      <td>2011-05-22</td>\n",
       "      <td>6</td>\n",
       "      <td>9.2</td>\n",
       "      <td>tt1837862</td>\n",
       "    </tr>\n",
       "    <tr>\n",
       "      <td>6</td>\n",
       "      <td>You Win or You Die</td>\n",
       "      <td>2011-05-29</td>\n",
       "      <td>7</td>\n",
       "      <td>9.2</td>\n",
       "      <td>tt1837863</td>\n",
       "    </tr>\n",
       "    <tr>\n",
       "      <td>7</td>\n",
       "      <td>The Pointy End</td>\n",
       "      <td>2011-06-05</td>\n",
       "      <td>8</td>\n",
       "      <td>9.0</td>\n",
       "      <td>tt1837864</td>\n",
       "    </tr>\n",
       "    <tr>\n",
       "      <td>8</td>\n",
       "      <td>Baelor</td>\n",
       "      <td>2011-06-12</td>\n",
       "      <td>9</td>\n",
       "      <td>9.6</td>\n",
       "      <td>tt1851398</td>\n",
       "    </tr>\n",
       "    <tr>\n",
       "      <td>9</td>\n",
       "      <td>Fire and Blood</td>\n",
       "      <td>2011-06-19</td>\n",
       "      <td>10</td>\n",
       "      <td>9.5</td>\n",
       "      <td>tt1851397</td>\n",
       "    </tr>\n",
       "  </tbody>\n",
       "</table>\n",
       "</div>"
      ],
      "text/plain": [
       "                                   Title    Released Episode imdbRating  \\\n",
       "0                       Winter Is Coming  2011-04-17       1        9.0   \n",
       "1                          The Kingsroad  2011-04-24       2        8.8   \n",
       "2                              Lord Snow  2011-05-01       3        8.7   \n",
       "3  Cripples, Bastards, and Broken Things  2011-05-08       4        8.8   \n",
       "4                  The Wolf and the Lion  2011-05-15       5        9.1   \n",
       "5                         A Golden Crown  2011-05-22       6        9.2   \n",
       "6                     You Win or You Die  2011-05-29       7        9.2   \n",
       "7                         The Pointy End  2011-06-05       8        9.0   \n",
       "8                                 Baelor  2011-06-12       9        9.6   \n",
       "9                         Fire and Blood  2011-06-19      10        9.5   \n",
       "\n",
       "      imdbID  \n",
       "0  tt1480055  \n",
       "1  tt1668746  \n",
       "2  tt1829962  \n",
       "3  tt1829963  \n",
       "4  tt1829964  \n",
       "5  tt1837862  \n",
       "6  tt1837863  \n",
       "7  tt1837864  \n",
       "8  tt1851398  \n",
       "9  tt1851397  "
      ]
     },
     "execution_count": 17,
     "metadata": {},
     "output_type": "execute_result"
    }
   ],
   "source": [
    "df"
   ]
  },
  {
   "cell_type": "markdown",
   "metadata": {},
   "source": [
    "And, we can save our data locally to use later."
   ]
  },
  {
   "cell_type": "code",
   "execution_count": 22,
   "metadata": {},
   "outputs": [],
   "source": [
    "with open('omdb_api_data.json', 'w') as f:\n",
    "    json.dump(data, f)"
   ]
  },
  {
   "cell_type": "markdown",
   "metadata": {},
   "source": [
    "Let's try an API that requires an API key!\n",
    "\n",
    "\"The [Digital Public Library of America](https://dp.la/) brings together the riches of America’s libraries, archives, and museums, and makes them freely available to the world. It strives to contain the full breadth of human expression, from the written word, to works of art and culture, to records of America’s heritage, to the efforts and data of science.\"\n",
    "\n",
    "And, they have an [API](https://dp.la/info/developers/codex/api-basics/).\n",
    "\n",
    "In order to use the API, you need to [request a key](https://dp.la/info/developers/codex/policies/#get-a-key). You can do this with an HTTP POST request.\n"
   ]
  },
  {
   "cell_type": "markdown",
   "metadata": {},
   "source": [
    "If you are using **OS X or Linux**, replace \"YOUR_EMAIL@example.com\" in the cell below with your email address and execute the cell. This will send the rquest to DPLA and they will email your API key to the email address you provided. To successfully query the API, you must include the ?api_key= parameter with the 32-character hash following."
   ]
  },
  {
   "cell_type": "code",
   "execution_count": null,
   "metadata": {
    "collapsed": true
   },
   "outputs": [],
   "source": [
    "# execute this on OS X or Linux by removing '#' on the next line and excuting the cell\n",
    "#! curl -v -XPOST http://api.dp.la/v2/api_key/YOUR_EMAIL@example.com"
   ]
  },
  {
   "cell_type": "markdown",
   "metadata": {},
   "source": [
    "If you are on **Windows 7 or 10**, [open PowerShell](http://www.tenforums.com/tutorials/25581-windows-powershell-open-windows-10-a.html). Replace \"YOUR_EMAIL@example.com\" in the cell below with your email address. Copy the code and paste it at the command prompt in PowerShell. This will send the rquest to DPLA and they will email your API key to the email address you provided. To successfully query the API, you must include the ?api_key= parameter with the 32-character hash following."
   ]
  },
  {
   "cell_type": "code",
   "execution_count": null,
   "metadata": {
    "collapsed": true
   },
   "outputs": [],
   "source": [
    "#execute this on Windows by running the line below, without the leading '#', in PowerShell\n",
    "#Invoke-WebRequest -Uri (\"http://api.dp.la/v2/api_key/YOUR_EMAIL@example.com\") -Method POST -Verbose -usebasicparsing\n",
    "# Invoke-WebRequest -Uri (\"http://api.dp.la/v2/api_key/frankey284@gmail.com\") -Method POST -Verbose -usebasicparsing"
   ]
  },
  {
   "cell_type": "markdown",
   "metadata": {},
   "source": [
    "You will get a response similar to what is shown below and will receive an email fairly quickly from DPLA with your key."
   ]
  },
  {
   "cell_type": "markdown",
   "metadata": {},
   "source": [
    "    shell-init: error retrieving current directory: getcwd: cannot access parent directories: No such file or directory\n",
    "    *   Trying 52.2.169.251...\n",
    "    * Connected to api.dp.la (52.2.169.251) port 80 (#0)\n",
    "    > POST /v2/api_key/YOUR_EMAIL@example.com HTTP/1.1\n",
    "    > Host: api.dp.la\n",
    "    > User-Agent: curl/7.43.0\n",
    "    > Accept: */*\n",
    "    > \n",
    "    < HTTP/1.1 201 Created\n",
    "    < Access-Control-Allow-Origin: *\n",
    "    < Cache-Control: max-age=0, private, must-revalidate\n",
    "    < Content-Type: application/json; charset=utf-8\n",
    "    < Date: Thu, 20 Oct 2016 20:53:24 GMT\n",
    "    < ETag: \"8b66d9fe7ded79e3151d5a22f0580d99\"\n",
    "    < Server: nginx/1.1.19\n",
    "    < Status: 201 Created\n",
    "    < X-Request-Id: d61618751a376452ac3540b3157dcf48\n",
    "    < X-Runtime: 0.179920\n",
    "    < X-UA-Compatible: IE=Edge,chrome=1\n",
    "    < Content-Length: 89\n",
    "    < Connection: keep-alive\n",
    "    < \n",
    "    * Connection #0 to host api.dp.la left intact\n",
    "    {\"message\":\"API key created and sent via email. Be sure to check your Spam folder, too.\"}"
   ]
  },
  {
   "cell_type": "markdown",
   "metadata": {},
   "source": [
    "It is good practice not to put your keys in your code. You can store them in a file and read them in from there. If you are pushing your code to GitHub, make sure you put your key files in .gitignore.\n",
    "\n",
    "I created a file on my drive called \"config_secret.json\". The contents of the file look like this:\n",
    "\n",
    "{\n",
    "\t\"api_key\" : \"my api key here\"\n",
    "}\n",
    "\n",
    "I can then write code to read the information in.\n",
    "\n",
    "A template called config_secret_template.json has been provided for you to add your keys to."
   ]
  },
  {
   "cell_type": "code",
   "execution_count": 37,
   "metadata": {
    "scrolled": true
   },
   "outputs": [],
   "source": [
    "with open(\"dpla_config_secret.json\") as key_file:\n",
    "    key = json.load(key_file)"
   ]
  },
  {
   "cell_type": "code",
   "execution_count": 38,
   "metadata": {},
   "outputs": [
    {
     "data": {
      "text/plain": [
       "{'api_key': '429f86c5e2d4f1256702feeff9c94ac7'}"
      ]
     },
     "execution_count": 38,
     "metadata": {},
     "output_type": "execute_result"
    }
   ],
   "source": [
    "key"
   ]
  },
  {
   "cell_type": "markdown",
   "metadata": {
    "collapsed": true
   },
   "source": [
    "Then, when I create my API query, I can use a variable in place of my actual key.\n",
    "\n",
    "The Requests library allows us to build urls with different parameters. You build the parameters as a dictionary that contains key/value pairs for everything after the '?' in your url."
   ]
  },
  {
   "cell_type": "code",
   "execution_count": 41,
   "metadata": {},
   "outputs": [],
   "source": [
    "import requests"
   ]
  },
  {
   "cell_type": "code",
   "execution_count": 49,
   "metadata": {},
   "outputs": [],
   "source": [
    "# we are specifying our url and parameters here as variables\n",
    "url = 'http://api.dp.la/v2/items/'\n",
    "params = {'api_key' : key['api_key'], 'q' : 'cats'}"
   ]
  },
  {
   "cell_type": "code",
   "execution_count": 50,
   "metadata": {},
   "outputs": [],
   "source": [
    "# we are creating a response object, r\n",
    "r = requests.get(url, params=params)"
   ]
  },
  {
   "cell_type": "code",
   "execution_count": 51,
   "metadata": {},
   "outputs": [
    {
     "data": {
      "text/plain": [
       "requests.models.Response"
      ]
     },
     "execution_count": 51,
     "metadata": {},
     "output_type": "execute_result"
    }
   ],
   "source": [
    "type(r)"
   ]
  },
  {
   "cell_type": "code",
   "execution_count": 44,
   "metadata": {},
   "outputs": [
    {
     "data": {
      "text/plain": [
       "'http://api.dp.la/v2/items/?api_key=429f86c5e2d4f1256702feeff9c94ac7&q=goats%2BAND%2Bcats'"
      ]
     },
     "execution_count": 44,
     "metadata": {},
     "output_type": "execute_result"
    }
   ],
   "source": [
    "# we can look at the url that was created by requests with our specified variables\n",
    "r.url"
   ]
  },
  {
   "cell_type": "code",
   "execution_count": 52,
   "metadata": {},
   "outputs": [
    {
     "data": {
      "text/plain": [
       "404"
      ]
     },
     "execution_count": 52,
     "metadata": {},
     "output_type": "execute_result"
    }
   ],
   "source": [
    "# we can check the status code of our request\n",
    "r.status_code"
   ]
  },
  {
   "cell_type": "markdown",
   "metadata": {},
   "source": [
    "[HTTP Status Codes](http://www.restapitutorial.com/httpstatuscodes.html)"
   ]
  },
  {
   "cell_type": "code",
   "execution_count": 47,
   "metadata": {
    "scrolled": true
   },
   "outputs": [
    {
     "name": "stdout",
     "output_type": "stream",
     "text": [
      "b'\"Not Found\"'\n"
     ]
    }
   ],
   "source": [
    "# we can look at the content of our request\n",
    "print(r.content)"
   ]
  },
  {
   "cell_type": "markdown",
   "metadata": {},
   "source": [
    "By default, DPLA returns 10 items at a time. We can see from the count value, our query has 29 results. DPLA does give us a paramter we can set to change this to get up to 500 items at a time.\n",
    "\n"
   ]
  },
  {
   "cell_type": "code",
   "execution_count": 48,
   "metadata": {},
   "outputs": [
    {
     "name": "stdout",
     "output_type": "stream",
     "text": [
      "b'\"Not Found\"'\n"
     ]
    }
   ],
   "source": [
    "params = {'api_key' : key['api_key'], 'q' : 'goats+AND+cats', 'page_size': 500}\n",
    "r = requests.get(url, params=params)\n",
    "print(r.content)"
   ]
  },
  {
   "cell_type": "markdown",
   "metadata": {},
   "source": [
    "If we were working with an API that limited us to only 10 items at a time, we could write a loop to pull our data.\n",
    "\n",
    "The file [seeclickfix_api.py](./seeclickfix_api.py) in the api folder of this repo is an example of how you can pull multiple pages of data from an API. It uses the [SeeClickFix API](http://dev.seeclickfix.com/). \"[SeeClickFix](https://seeclickfix.com/) allows you to play an integral role in public services — routing neighborhood concerns like potholes and light outages to the right official with the right information.\""
   ]
  }
 ],
 "metadata": {
  "anaconda-cloud": {},
  "kernelspec": {
   "display_name": "Python 3",
   "language": "python",
   "name": "python3"
  },
  "language_info": {
   "codemirror_mode": {
    "name": "ipython",
    "version": 3
   },
   "file_extension": ".py",
   "mimetype": "text/x-python",
   "name": "python",
   "nbconvert_exporter": "python",
   "pygments_lexer": "ipython3",
   "version": "3.7.7"
  }
 },
 "nbformat": 4,
 "nbformat_minor": 1
}
