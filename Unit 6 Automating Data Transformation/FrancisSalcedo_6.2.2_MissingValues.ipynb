{
 "cells": [
  {
   "cell_type": "code",
   "execution_count": 73,
   "metadata": {},
   "outputs": [],
   "source": [
    "import pandas as pd"
   ]
  },
  {
   "cell_type": "code",
   "execution_count": 74,
   "metadata": {},
   "outputs": [
    {
     "data": {
      "text/html": [
       "<div>\n",
       "<style scoped>\n",
       "    .dataframe tbody tr th:only-of-type {\n",
       "        vertical-align: middle;\n",
       "    }\n",
       "\n",
       "    .dataframe tbody tr th {\n",
       "        vertical-align: top;\n",
       "    }\n",
       "\n",
       "    .dataframe thead th {\n",
       "        text-align: right;\n",
       "    }\n",
       "</style>\n",
       "<table border=\"1\" class=\"dataframe\">\n",
       "  <thead>\n",
       "    <tr style=\"text-align: right;\">\n",
       "      <th></th>\n",
       "      <th>day</th>\n",
       "      <th>temperature</th>\n",
       "      <th>windspeed</th>\n",
       "      <th>event</th>\n",
       "    </tr>\n",
       "  </thead>\n",
       "  <tbody>\n",
       "    <tr>\n",
       "      <td>0</td>\n",
       "      <td>2017-01-01</td>\n",
       "      <td>32.0</td>\n",
       "      <td>6.0</td>\n",
       "      <td>Rain</td>\n",
       "    </tr>\n",
       "    <tr>\n",
       "      <td>1</td>\n",
       "      <td>2017-01-04</td>\n",
       "      <td>NaN</td>\n",
       "      <td>9.0</td>\n",
       "      <td>Sunny</td>\n",
       "    </tr>\n",
       "    <tr>\n",
       "      <td>2</td>\n",
       "      <td>2017-01-05</td>\n",
       "      <td>28.0</td>\n",
       "      <td>NaN</td>\n",
       "      <td>Snow</td>\n",
       "    </tr>\n",
       "    <tr>\n",
       "      <td>3</td>\n",
       "      <td>2017-01-06</td>\n",
       "      <td>NaN</td>\n",
       "      <td>7.0</td>\n",
       "      <td>NaN</td>\n",
       "    </tr>\n",
       "    <tr>\n",
       "      <td>4</td>\n",
       "      <td>2017-01-07</td>\n",
       "      <td>32.0</td>\n",
       "      <td>NaN</td>\n",
       "      <td>Rain</td>\n",
       "    </tr>\n",
       "    <tr>\n",
       "      <td>5</td>\n",
       "      <td>2017-01-08</td>\n",
       "      <td>NaN</td>\n",
       "      <td>NaN</td>\n",
       "      <td>Sunny</td>\n",
       "    </tr>\n",
       "    <tr>\n",
       "      <td>6</td>\n",
       "      <td>2017-01-09</td>\n",
       "      <td>NaN</td>\n",
       "      <td>NaN</td>\n",
       "      <td>NaN</td>\n",
       "    </tr>\n",
       "    <tr>\n",
       "      <td>7</td>\n",
       "      <td>2017-01-10</td>\n",
       "      <td>34.0</td>\n",
       "      <td>8.0</td>\n",
       "      <td>Cloudy</td>\n",
       "    </tr>\n",
       "    <tr>\n",
       "      <td>8</td>\n",
       "      <td>2017-01-11</td>\n",
       "      <td>40.0</td>\n",
       "      <td>12.0</td>\n",
       "      <td>Sunny</td>\n",
       "    </tr>\n",
       "  </tbody>\n",
       "</table>\n",
       "</div>"
      ],
      "text/plain": [
       "         day  temperature  windspeed   event\n",
       "0 2017-01-01         32.0        6.0    Rain\n",
       "1 2017-01-04          NaN        9.0   Sunny\n",
       "2 2017-01-05         28.0        NaN    Snow\n",
       "3 2017-01-06          NaN        7.0     NaN\n",
       "4 2017-01-07         32.0        NaN    Rain\n",
       "5 2017-01-08          NaN        NaN   Sunny\n",
       "6 2017-01-09          NaN        NaN     NaN\n",
       "7 2017-01-10         34.0        8.0  Cloudy\n",
       "8 2017-01-11         40.0       12.0   Sunny"
      ]
     },
     "execution_count": 74,
     "metadata": {},
     "output_type": "execute_result"
    }
   ],
   "source": [
    "df = pd.read_csv('weather_data.csv',delimiter='\\t', parse_dates = ['day'])\n",
    "df"
   ]
  },
  {
   "cell_type": "code",
   "execution_count": 75,
   "metadata": {},
   "outputs": [],
   "source": [
    "df.set_index('day',inplace=True)\n"
   ]
  },
  {
   "cell_type": "code",
   "execution_count": 76,
   "metadata": {},
   "outputs": [
    {
     "name": "stdout",
     "output_type": "stream",
     "text": [
      "            temperature  windspeed   event\n",
      "day                                       \n",
      "2017-01-01         32.0        6.0    Rain\n",
      "2017-01-04          NaN        9.0   Sunny\n",
      "2017-01-05         28.0        NaN    Snow\n",
      "2017-01-06          NaN        7.0     NaN\n",
      "2017-01-07         32.0        NaN    Rain\n",
      "2017-01-08          NaN        NaN   Sunny\n",
      "2017-01-09          NaN        NaN     NaN\n",
      "2017-01-10         34.0        8.0  Cloudy\n",
      "2017-01-11         40.0       12.0   Sunny\n"
     ]
    }
   ],
   "source": [
    "print(df)"
   ]
  },
  {
   "cell_type": "code",
   "execution_count": 77,
   "metadata": {},
   "outputs": [
    {
     "name": "stdout",
     "output_type": "stream",
     "text": [
      "            temperature  windspeed   event\n",
      "day                                       \n",
      "2017-01-01         32.0        6.0    Rain\n",
      "2017-01-04          0.0        9.0   Sunny\n",
      "2017-01-05         28.0        0.0    Snow\n",
      "2017-01-06          0.0        7.0       0\n",
      "2017-01-07         32.0        0.0    Rain\n",
      "2017-01-08          0.0        0.0   Sunny\n",
      "2017-01-09          0.0        0.0       0\n",
      "2017-01-10         34.0        8.0  Cloudy\n",
      "2017-01-11         40.0       12.0   Sunny\n"
     ]
    }
   ],
   "source": [
    "new_df = df.fillna(0)\n",
    "print(new_df)"
   ]
  },
  {
   "cell_type": "code",
   "execution_count": 78,
   "metadata": {},
   "outputs": [
    {
     "name": "stdout",
     "output_type": "stream",
     "text": [
      "            temperature  windspeed     event\n",
      "day                                         \n",
      "2017-01-01         32.0        6.0      Rain\n",
      "2017-01-04          0.0        9.0     Sunny\n",
      "2017-01-05         28.0        0.0      Snow\n",
      "2017-01-06          0.0        7.0  No Event\n",
      "2017-01-07         32.0        0.0      Rain\n",
      "2017-01-08          0.0        0.0     Sunny\n",
      "2017-01-09          0.0        0.0  No Event\n",
      "2017-01-10         34.0        8.0    Cloudy\n",
      "2017-01-11         40.0       12.0     Sunny\n"
     ]
    }
   ],
   "source": [
    "new_df = df.fillna({\n",
    "    'temperature': 0.0,\n",
    "    'windspeed': 0.0,\n",
    "    'event': 'No Event'\n",
    "})\n",
    "print(new_df)"
   ]
  },
  {
   "cell_type": "code",
   "execution_count": 79,
   "metadata": {},
   "outputs": [
    {
     "name": "stdout",
     "output_type": "stream",
     "text": [
      "            temperature  windspeed   event\n",
      "day                                       \n",
      "2017-01-01         32.0        6.0    Rain\n",
      "2017-01-04         32.0        9.0   Sunny\n",
      "2017-01-05         28.0        9.0    Snow\n",
      "2017-01-06         28.0        7.0    Snow\n",
      "2017-01-07         32.0        7.0    Rain\n",
      "2017-01-08         32.0        7.0   Sunny\n",
      "2017-01-09         32.0        7.0   Sunny\n",
      "2017-01-10         34.0        8.0  Cloudy\n",
      "2017-01-11         40.0       12.0   Sunny\n"
     ]
    }
   ],
   "source": [
    "new_df = df.fillna(method = 'ffill') # forward fill\n",
    "print(new_df)"
   ]
  },
  {
   "cell_type": "code",
   "execution_count": 80,
   "metadata": {},
   "outputs": [
    {
     "name": "stdout",
     "output_type": "stream",
     "text": [
      "            temperature  windspeed   event\n",
      "day                                       \n",
      "2017-01-01         32.0        6.0    Rain\n",
      "2017-01-04         28.0        9.0   Sunny\n",
      "2017-01-05         28.0        7.0    Snow\n",
      "2017-01-06         32.0        7.0    Rain\n",
      "2017-01-07         32.0        8.0    Rain\n",
      "2017-01-08         34.0        8.0   Sunny\n",
      "2017-01-09         34.0        8.0  Cloudy\n",
      "2017-01-10         34.0        8.0  Cloudy\n",
      "2017-01-11         40.0       12.0   Sunny\n"
     ]
    }
   ],
   "source": [
    "new_df = df.fillna(method = 'bfill') # backward fill)\n",
    "print(new_df)"
   ]
  },
  {
   "cell_type": "code",
   "execution_count": 81,
   "metadata": {},
   "outputs": [
    {
     "name": "stdout",
     "output_type": "stream",
     "text": [
      "           temperature windspeed   event\n",
      "day                                     \n",
      "2017-01-01          32         6    Rain\n",
      "2017-01-04           9         9   Sunny\n",
      "2017-01-05          28      Snow    Snow\n",
      "2017-01-06           7         7     NaN\n",
      "2017-01-07          32      Rain    Rain\n",
      "2017-01-08       Sunny     Sunny   Sunny\n",
      "2017-01-09         NaN       NaN     NaN\n",
      "2017-01-10          34         8  Cloudy\n",
      "2017-01-11          40        12   Sunny\n"
     ]
    }
   ],
   "source": [
    "new_df = df.fillna(method = 'bfill', axis = 'columns')\n",
    "print(new_df) # copying columns horizontally"
   ]
  },
  {
   "cell_type": "code",
   "execution_count": 82,
   "metadata": {},
   "outputs": [
    {
     "name": "stdout",
     "output_type": "stream",
     "text": [
      "            temperature  windspeed   event\n",
      "day                                       \n",
      "2017-01-01         32.0        6.0    Rain\n",
      "2017-01-04         32.0        9.0   Sunny\n",
      "2017-01-05         28.0        9.0    Snow\n",
      "2017-01-06         28.0        7.0    Snow\n",
      "2017-01-07         32.0        7.0    Rain\n",
      "2017-01-08         32.0        NaN   Sunny\n",
      "2017-01-09          NaN        NaN   Sunny\n",
      "2017-01-10         34.0        8.0  Cloudy\n",
      "2017-01-11         40.0       12.0   Sunny\n"
     ]
    }
   ],
   "source": [
    "new_df = df.fillna(method = 'ffill', limit =1)\n",
    "print(new_df)"
   ]
  },
  {
   "cell_type": "code",
   "execution_count": 83,
   "metadata": {},
   "outputs": [
    {
     "name": "stdout",
     "output_type": "stream",
     "text": [
      "            temperature  windspeed   event\n",
      "day                                       \n",
      "2017-01-01    32.000000       6.00    Rain\n",
      "2017-01-04    30.000000       9.00   Sunny\n",
      "2017-01-05    28.000000       8.00    Snow\n",
      "2017-01-06    30.000000       7.00     NaN\n",
      "2017-01-07    32.000000       7.25    Rain\n",
      "2017-01-08    32.666667       7.50   Sunny\n",
      "2017-01-09    33.333333       7.75     NaN\n",
      "2017-01-10    34.000000       8.00  Cloudy\n",
      "2017-01-11    40.000000      12.00   Sunny\n"
     ]
    }
   ],
   "source": [
    "new_df = df.interpolate()\n",
    "print(new_df)"
   ]
  },
  {
   "cell_type": "code",
   "execution_count": 84,
   "metadata": {},
   "outputs": [
    {
     "name": "stdout",
     "output_type": "stream",
     "text": [
      "            temperature  windspeed   event\n",
      "day                                       \n",
      "2017-01-01    32.000000       6.00    Rain\n",
      "2017-01-04    29.000000       9.00   Sunny\n",
      "2017-01-05    28.000000       8.00    Snow\n",
      "2017-01-06    30.000000       7.00     NaN\n",
      "2017-01-07    32.000000       7.25    Rain\n",
      "2017-01-08    32.666667       7.50   Sunny\n",
      "2017-01-09    33.333333       7.75     NaN\n",
      "2017-01-10    34.000000       8.00  Cloudy\n",
      "2017-01-11    40.000000      12.00   Sunny\n"
     ]
    }
   ],
   "source": [
    "new_df = df.interpolate(method='time')\n",
    "print(new_df)"
   ]
  },
  {
   "cell_type": "markdown",
   "metadata": {},
   "source": [
    "## Drop NaN"
   ]
  },
  {
   "cell_type": "code",
   "execution_count": 85,
   "metadata": {},
   "outputs": [
    {
     "name": "stdout",
     "output_type": "stream",
     "text": [
      "            temperature  windspeed   event\n",
      "day                                       \n",
      "2017-01-01         32.0        6.0    Rain\n",
      "2017-01-04          NaN        9.0   Sunny\n",
      "2017-01-05         28.0        NaN    Snow\n",
      "2017-01-06          NaN        7.0     NaN\n",
      "2017-01-07         32.0        NaN    Rain\n",
      "2017-01-08          NaN        NaN   Sunny\n",
      "2017-01-10         34.0        8.0  Cloudy\n",
      "2017-01-11         40.0       12.0   Sunny\n"
     ]
    }
   ],
   "source": [
    "new_df = df.dropna(how ='all')\n",
    "# same as df.dropna()\n",
    "print(new_df)"
   ]
  },
  {
   "cell_type": "code",
   "execution_count": 86,
   "metadata": {},
   "outputs": [
    {
     "name": "stdout",
     "output_type": "stream",
     "text": [
      "            temperature  windspeed   event\n",
      "day                                       \n",
      "2017-01-01         32.0        6.0    Rain\n",
      "2017-01-04          NaN        9.0   Sunny\n",
      "2017-01-05         28.0        NaN    Snow\n",
      "2017-01-06          NaN        7.0     NaN\n",
      "2017-01-07         32.0        NaN    Rain\n",
      "2017-01-08          NaN        NaN   Sunny\n",
      "2017-01-10         34.0        8.0  Cloudy\n",
      "2017-01-11         40.0       12.0   Sunny\n"
     ]
    }
   ],
   "source": [
    "new_df = df.dropna(thresh=1) # if i have at least 1 real value in the row\n",
    "print(new_df)"
   ]
  },
  {
   "cell_type": "code",
   "execution_count": 87,
   "metadata": {},
   "outputs": [],
   "source": [
    "dt = pd.date_range('01-01-2017', '01-11-2017')\n",
    "idx = pd.DatetimeIndex(dt)"
   ]
  },
  {
   "cell_type": "code",
   "execution_count": 91,
   "metadata": {},
   "outputs": [
    {
     "name": "stdout",
     "output_type": "stream",
     "text": [
      "            temperature  windspeed   event\n",
      "2017-01-01         32.0        6.0    Rain\n",
      "2017-01-02          NaN        NaN     NaN\n",
      "2017-01-03          NaN        NaN     NaN\n",
      "2017-01-04          NaN        9.0   Sunny\n",
      "2017-01-05         28.0        NaN    Snow\n",
      "2017-01-06          NaN        7.0     NaN\n",
      "2017-01-07         32.0        NaN    Rain\n",
      "2017-01-08          NaN        NaN   Sunny\n",
      "2017-01-09          NaN        NaN     NaN\n",
      "2017-01-10         34.0        8.0  Cloudy\n",
      "2017-01-11         40.0       12.0   Sunny\n"
     ]
    }
   ],
   "source": [
    "df = df.reindex(idx)\n",
    "print(df)"
   ]
  },
  {
   "cell_type": "code",
   "execution_count": null,
   "metadata": {},
   "outputs": [],
   "source": []
  },
  {
   "cell_type": "code",
   "execution_count": null,
   "metadata": {},
   "outputs": [],
   "source": []
  },
  {
   "cell_type": "code",
   "execution_count": null,
   "metadata": {},
   "outputs": [],
   "source": []
  },
  {
   "cell_type": "code",
   "execution_count": null,
   "metadata": {},
   "outputs": [],
   "source": []
  }
 ],
 "metadata": {
  "kernelspec": {
   "display_name": "Python 3",
   "language": "python",
   "name": "python3"
  },
  "language_info": {
   "codemirror_mode": {
    "name": "ipython",
    "version": 3
   },
   "file_extension": ".py",
   "mimetype": "text/x-python",
   "name": "python",
   "nbconvert_exporter": "python",
   "pygments_lexer": "ipython3",
   "version": "3.7.7"
  }
 },
 "nbformat": 4,
 "nbformat_minor": 4
}
